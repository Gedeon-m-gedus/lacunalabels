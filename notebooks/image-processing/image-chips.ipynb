{
 "cells": [
  {
   "cell_type": "markdown",
   "id": "bb9659d1-112b-4404-bb1b-8a904d39806a",
   "metadata": {},
   "source": [
    "# Processing images into chips"
   ]
  },
  {
   "cell_type": "markdown",
   "id": "1aaf0bbf-5713-47df-94a7-6500bd3ffb32",
   "metadata": {
    "tags": []
   },
   "source": [
    "Planet imagery was originally processed into larger tiles of 2368 x 2358 pixels at a resolution of 0.000025$^\\circ$. Labelling was undertaken on only a subset of each tile, corresponding to a 0.005$^\\circ$ target (~550 m). For release, the imagery was cropped to the target box and resampled to make chips of 224x224 pixels, with labels rasterized to the same dimensions. Functions provided by the built in `MakeLabels` class are used for the task. "
   ]
  },
  {
   "cell_type": "code",
   "execution_count": 1,
   "id": "1960d363-2b6d-4c61-bfde-e4f4aea328ee",
   "metadata": {
    "tags": []
   },
   "outputs": [],
   "source": [
    "import os\n",
    "import sys\n",
    "from pathlib import Path\n",
    "import pandas as pd\n",
    "import rioxarray as rxr\n",
    "from datetime import datetime as dt\n",
    "from makelabels import MakeLabels"
   ]
  },
  {
   "cell_type": "markdown",
   "id": "ab063d80-0533-406f-a467-8242f52d02da",
   "metadata": {
    "tags": []
   },
   "source": [
    "## Setup"
   ]
  },
  {
   "cell_type": "markdown",
   "id": "909ade38-69fb-4241-81fa-5503996e2249",
   "metadata": {},
   "source": [
    "### Paths"
   ]
  },
  {
   "cell_type": "code",
   "execution_count": 4,
   "id": "f79f02e2-37c3-4336-9879-53750f1164b5",
   "metadata": {
    "tags": []
   },
   "outputs": [],
   "source": [
    "root_dir = os.environ[\"HOME\"]\n",
    "proj_dir = Path(root_dir) / \"projects/lacunalabels\"\n",
    "data_dir = Path(root_dir) / \"data\"\n",
    "image_dir = Path(os.path.dirname(root_dir)) / \\\n",
    "    \"data/imagery/planet/tiles\" # input directory\n",
    "chip_dir = Path(data_dir) / \"labels/lacunalabels/images\"  # output\n",
    "log_file = str(Path(root_dir) / \"logs/image-chipping\")\n",
    "\n",
    "if not os.path.isdir(chip_dir):\n",
    "    os.makedirs(chip_dir)"
   ]
  },
  {
   "cell_type": "markdown",
   "id": "4b56b95e-c0c8-4624-b3f7-d09443645e4e",
   "metadata": {
    "tags": []
   },
   "source": [
    "### Catalogs\n",
    "\n",
    "Read in assignment catalog containing the image tile names, drop duplicated site names (there are more than one assignment mapped for many sites)"
   ]
  },
  {
   "cell_type": "code",
   "execution_count": 5,
   "id": "75723a2e-7c2c-46f5-be24-3c626f4ccc07",
   "metadata": {
    "tags": []
   },
   "outputs": [],
   "source": [
    "catalog = pd.read_csv(Path(proj_dir) /\\\n",
    "                      \"data/interim/assignments_full_wtiles.csv\")\n",
    "chip_catalog = (\n",
    "    catalog[[\"name\", \"image_date\", \"x\", \"y\", \"destfile\"]]\n",
    "    .drop_duplicates()\n",
    "    .reset_index(drop=True)\n",
    ")"
   ]
  },
  {
   "cell_type": "markdown",
   "id": "eb789456-33f2-40c7-b77a-e50e23e1c300",
   "metadata": {},
   "source": [
    "## Run chipping\n",
    "\n",
    "Using the `image_chipper` provided by `MakeLabels` run in parallel mode. "
   ]
  },
  {
   "cell_type": "markdown",
   "id": "ba7f83ab-e530-4495-9109-64dd2615ed8a",
   "metadata": {},
   "source": [
    "### Initialize the class\n",
    "\n",
    "Which also initiates a logger"
   ]
  },
  {
   "cell_type": "code",
   "execution_count": 6,
   "id": "4ff5ef18-67b9-433f-ace7-0568bc3ee74f",
   "metadata": {
    "tags": []
   },
   "outputs": [
    {
     "name": "stdout",
     "output_type": "stream",
     "text": [
      "Started dataset creation\n"
     ]
    }
   ],
   "source": [
    "mkl = MakeLabels(logfile=log_file)"
   ]
  },
  {
   "cell_type": "markdown",
   "id": "9c978b08-c68f-4857-a0e3-ba1c4d159c86",
   "metadata": {},
   "source": [
    "### Define arguments for chipping function\n",
    "\n",
    "Using a dictionary of keyword arguments, to enable parallelized implementation of the `image_chipper` function. Arguments including the half-width of the chipping target, in decimal degrees, the desired output dimensions (224x224), the input and output directories, etc. \n",
    "\n",
    "See `help(mkl.image_chipper)` for more details on arguments.`"
   ]
  },
  {
   "cell_type": "code",
   "execution_count": 7,
   "id": "195bb226-30fb-48d8-8334-8f313f8be41e",
   "metadata": {
    "tags": []
   },
   "outputs": [],
   "source": [
    "kwargs = {\n",
    "    \"src_dir\": image_dir, \n",
    "    \"dst_dir\": chip_dir, \n",
    "    \"src_col\": \"destfile\",\n",
    "    \"date_col\": \"image_date\",\n",
    "    \"w\": 0.0025, \n",
    "    \"rows\": 224,\n",
    "    \"cols\": 224, \n",
    "    \"crs\": \"epsg:4326\",\n",
    "    \"verbose\": False,\n",
    "    \"overwrite\": False\n",
    "}"
   ]
  },
  {
   "cell_type": "markdown",
   "id": "8ccae569-ad25-4d64-af6f-07f891fbb628",
   "metadata": {
    "tags": []
   },
   "source": [
    "### Run chipping in parallel\n"
   ]
  },
  {
   "cell_type": "code",
   "execution_count": 8,
   "id": "d7e76743-b660-47c9-b2c3-4b00cf7d58c9",
   "metadata": {
    "tags": []
   },
   "outputs": [
    {
     "name": "stdout",
     "output_type": "stream",
     "text": [
      "Completed run\n",
      "CPU times: user 4h 37min 49s, sys: 19min 52s, total: 4h 57min 41s\n",
      "Wall time: 4h 31min 58s\n"
     ]
    }
   ],
   "source": [
    "%%time\n",
    "catalogf = mkl.run_parallel_threads(\n",
    "    chip_catalog, mkl.image_chipper, kwargs, 4\n",
    ")\n",
    "catalogf = pd.DataFrame(catalogf)"
   ]
  },
  {
   "cell_type": "code",
   "execution_count": 9,
   "id": "f793c68d-f7af-4519-9ef3-cdbae6f63f57",
   "metadata": {
    "tags": []
   },
   "outputs": [],
   "source": [
    "catalogf.reset_index(drop=True, inplace=True)\n",
    "catalogf.drop(columns=[\"destfile\", \"x\", \"y\"], inplace=True)"
   ]
  },
  {
   "cell_type": "code",
   "execution_count": 10,
   "id": "c313f3a7-4746-45df-be6d-80ee98fd6113",
   "metadata": {
    "tags": []
   },
   "outputs": [
    {
     "data": {
      "text/html": [
       "<div>\n",
       "<style scoped>\n",
       "    .dataframe tbody tr th:only-of-type {\n",
       "        vertical-align: middle;\n",
       "    }\n",
       "\n",
       "    .dataframe tbody tr th {\n",
       "        vertical-align: top;\n",
       "    }\n",
       "\n",
       "    .dataframe thead th {\n",
       "        text-align: right;\n",
       "    }\n",
       "</style>\n",
       "<table border=\"1\" class=\"dataframe\">\n",
       "  <thead>\n",
       "    <tr style=\"text-align: right;\">\n",
       "      <th></th>\n",
       "      <th>name</th>\n",
       "      <th>image_date</th>\n",
       "      <th>image</th>\n",
       "    </tr>\n",
       "  </thead>\n",
       "  <tbody>\n",
       "    <tr>\n",
       "      <th>0</th>\n",
       "      <td>ET0007182</td>\n",
       "      <td>2017-08-15</td>\n",
       "      <td>ET0007182_2017-08.tif</td>\n",
       "    </tr>\n",
       "    <tr>\n",
       "      <th>1</th>\n",
       "      <td>NE3372442</td>\n",
       "      <td>2021-08-15</td>\n",
       "      <td>NE3372442_2021-08.tif</td>\n",
       "    </tr>\n",
       "    <tr>\n",
       "      <th>2</th>\n",
       "      <td>SN0105655</td>\n",
       "      <td>2020-02-15</td>\n",
       "      <td>SN0105655_2020-02.tif</td>\n",
       "    </tr>\n",
       "    <tr>\n",
       "      <th>3</th>\n",
       "      <td>SD4068077</td>\n",
       "      <td>2022-03-15</td>\n",
       "      <td>SD4068077_2022-03.tif</td>\n",
       "    </tr>\n",
       "    <tr>\n",
       "      <th>4</th>\n",
       "      <td>ML2303293</td>\n",
       "      <td>2021-04-15</td>\n",
       "      <td>ML2303293_2021-04.tif</td>\n",
       "    </tr>\n",
       "  </tbody>\n",
       "</table>\n",
       "</div>"
      ],
      "text/plain": [
       "        name  image_date                  image\n",
       "0  ET0007182  2017-08-15  ET0007182_2017-08.tif\n",
       "1  NE3372442  2021-08-15  NE3372442_2021-08.tif\n",
       "2  SN0105655  2020-02-15  SN0105655_2020-02.tif\n",
       "3  SD4068077  2022-03-15  SD4068077_2022-03.tif\n",
       "4  ML2303293  2021-04-15  ML2303293_2021-04.tif"
      ]
     },
     "execution_count": 10,
     "metadata": {},
     "output_type": "execute_result"
    }
   ],
   "source": [
    "catalogf.to_csv(\n",
    "    Path(proj_dir) / \"data/interim/image_chip_catalog.csv\", index=False\n",
    ")\n",
    "catalogf.head()"
   ]
  },
  {
   "cell_type": "code",
   "execution_count": 18,
   "id": "ac3b8f64-81de-441e-861f-71f81dd597e3",
   "metadata": {},
   "outputs": [
    {
     "data": {
      "text/plain": [
       "[]"
      ]
     },
     "execution_count": 18,
     "metadata": {},
     "output_type": "execute_result"
    }
   ],
   "source": [
    "cnames = os.listdir(chip_dir)\n",
    "# catalogf.query(\"image in @cnames\")\n",
    "\n",
    "# [c for c in cnames if c not in catalogf.image.to_list()]"
   ]
  },
  {
   "cell_type": "code",
   "execution_count": 38,
   "id": "40649e76-7474-4b8d-8394-869ce928ebc1",
   "metadata": {},
   "outputs": [
    {
     "name": "stdout",
     "output_type": "stream",
     "text": [
      "33746\n"
     ]
    }
   ],
   "source": [
    "!ls /home/airg/lestes/data/labels/lacunalabels/labels/ | wc -l"
   ]
  },
  {
   "cell_type": "code",
   "execution_count": null,
   "id": "8d3bce4e-3477-422b-abec-e234aca99ca6",
   "metadata": {},
   "outputs": [],
   "source": []
  }
 ],
 "metadata": {
  "kernelspec": {
   "display_name": "Python 3 (ipykernel)",
   "language": "python",
   "name": "python3"
  },
  "language_info": {
   "codemirror_mode": {
    "name": "ipython",
    "version": 3
   },
   "file_extension": ".py",
   "mimetype": "text/x-python",
   "name": "python",
   "nbconvert_exporter": "python",
   "pygments_lexer": "ipython3",
   "version": "3.12.4"
  }
 },
 "nbformat": 4,
 "nbformat_minor": 5
}
