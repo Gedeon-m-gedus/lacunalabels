{
 "cells": [
  {
   "cell_type": "markdown",
   "id": "bb9659d1-112b-4404-bb1b-8a904d39806a",
   "metadata": {},
   "source": [
    "# Processing images into chips"
   ]
  },
  {
   "cell_type": "markdown",
   "id": "1aaf0bbf-5713-47df-94a7-6500bd3ffb32",
   "metadata": {
    "tags": []
   },
   "source": [
    "Planet imagery was originally processed into larger tiles of 2368 x 2358 pixels at a resolution of 0.000025$^\\circ$. Labelling was undertaken on only a subset of each tile, corresponding to a 0.005$^\\circ$ target (~550 m). For release, the imagery was cropped to the target box and resampled to make chips of 224x224 pixels, with labels rasterized to the same dimensions. Functions provided by the built in `MakeLabels` class are used for the task. "
   ]
  },
  {
   "cell_type": "code",
   "execution_count": 1,
   "id": "1960d363-2b6d-4c61-bfde-e4f4aea328ee",
   "metadata": {
    "tags": []
   },
   "outputs": [],
   "source": [
    "import os\n",
    "import sys\n",
    "from pathlib import Path\n",
    "import pandas as pd\n",
    "import rioxarray as rxr\n",
    "from datetime import datetime as dt\n",
    "from makelabels import MakeLabels"
   ]
  },
  {
   "cell_type": "markdown",
   "id": "ab063d80-0533-406f-a467-8242f52d02da",
   "metadata": {
    "tags": []
   },
   "source": [
    "## Setup"
   ]
  },
  {
   "cell_type": "markdown",
   "id": "909ade38-69fb-4241-81fa-5503996e2249",
   "metadata": {},
   "source": [
    "### Paths"
   ]
  },
  {
   "cell_type": "code",
   "execution_count": 21,
   "id": "f79f02e2-37c3-4336-9879-53750f1164b5",
   "metadata": {
    "tags": []
   },
   "outputs": [],
   "source": [
    "root_dir = os.environ[\"HOME\"]\n",
    "proj_dir = Path(root_dir) / \"projects/lacunalabels\"\n",
    "data_dir = Path(root_dir) / \"data\"\n",
    "image_dir = Path(os.path.dirname(root_dir)) / \\\n",
    "    \"data/imagery/planet/tiles\" # input directory\n",
    "chip_dir = Path(data_dir) / \"labels/lacuna/images\"  # output\n",
    "log_file = str(Path(root_dir) / \"logs/image-chipping-1\")\n",
    "\n",
    "for d in [chip_dir, label_dir]:\n",
    "    if not os.path.isdir(d):\n",
    "        os.makedirs(d)"
   ]
  },
  {
   "cell_type": "markdown",
   "id": "4b56b95e-c0c8-4624-b3f7-d09443645e4e",
   "metadata": {
    "tags": []
   },
   "source": [
    "### Catalogs\n",
    "\n",
    "Read in assignment catalog containing the image tile names, drop duplicated site names (there are more than one assignment mapped for many sites)"
   ]
  },
  {
   "cell_type": "code",
   "execution_count": 22,
   "id": "75723a2e-7c2c-46f5-be24-3c626f4ccc07",
   "metadata": {
    "tags": []
   },
   "outputs": [],
   "source": [
    "catalog = pd.read_csv(Path(proj_dir) /\\\n",
    "                      \"data/interim/assignments_full_wtiles.csv\")\n",
    "chip_catalog = (\n",
    "    catalog[[\"name\", \"image_date\", \"x\", \"y\", \"destfile\"]]\n",
    "    .drop_duplicates()\n",
    "    .reset_index(drop=True)\n",
    ")"
   ]
  },
  {
   "cell_type": "markdown",
   "id": "eb789456-33f2-40c7-b77a-e50e23e1c300",
   "metadata": {},
   "source": [
    "## Run chipping\n",
    "\n",
    "Using the `image_chipper` provided by `MakeLabels` run in parallel mode. "
   ]
  },
  {
   "cell_type": "markdown",
   "id": "ba7f83ab-e530-4495-9109-64dd2615ed8a",
   "metadata": {},
   "source": [
    "### Initialize the class\n",
    "\n",
    "Which also initiates a logger"
   ]
  },
  {
   "cell_type": "code",
   "execution_count": 18,
   "id": "4ff5ef18-67b9-433f-ace7-0568bc3ee74f",
   "metadata": {
    "tags": []
   },
   "outputs": [
    {
     "name": "stdout",
     "output_type": "stream",
     "text": [
      "Started dataset creation\n"
     ]
    }
   ],
   "source": [
    "mkl = MakeLabels(logfile=log_file)"
   ]
  },
  {
   "cell_type": "markdown",
   "id": "9c978b08-c68f-4857-a0e3-ba1c4d159c86",
   "metadata": {},
   "source": [
    "### Define arguments for chipping function\n",
    "\n",
    "Using a dictionary of keyword arguments, to enable parallelized implementation of the `image_chipper` function. Arguments including the half-width of the chipping target, in decimal degrees, the desired output dimensions (224x224), the input and output directories, etc. \n",
    "\n",
    "See `help(mkl.image_chipper)` for more details on arguments.`"
   ]
  },
  {
   "cell_type": "code",
   "execution_count": 24,
   "id": "195bb226-30fb-48d8-8334-8f313f8be41e",
   "metadata": {
    "tags": []
   },
   "outputs": [],
   "source": [
    "kwargs = {\n",
    "    \"src_dir\": image_dir, \n",
    "    \"dst_dir\": chip_dir, \n",
    "    \"src_col\": \"destfile\",\n",
    "    \"date_col\": \"image_date\",\n",
    "    \"w\": 0.0025, \n",
    "    \"rows\": 224,\n",
    "    \"cols\": 224, \n",
    "    \"crs\": \"epsg:4326\",\n",
    "    \"verbose\": False,\n",
    "    \"overwrite\": False\n",
    "}"
   ]
  },
  {
   "cell_type": "markdown",
   "id": "8ccae569-ad25-4d64-af6f-07f891fbb628",
   "metadata": {
    "tags": []
   },
   "source": [
    "### Run chipping in parallel\n"
   ]
  },
  {
   "cell_type": "code",
   "execution_count": 19,
   "id": "d7e76743-b660-47c9-b2c3-4b00cf7d58c9",
   "metadata": {
    "tags": []
   },
   "outputs": [
    {
     "name": "stdout",
     "output_type": "stream",
     "text": [
      "Completed run\n",
      "CPU times: user 2.45 s, sys: 740 ms, total: 3.19 s\n",
      "Wall time: 4.8 s\n"
     ]
    }
   ],
   "source": [
    "%%time\n",
    "catalogf = mkl.run_parallel_thread(\n",
    "    chip_catalog, mkl.image_chipper, kwargs, 4\n",
    ")\n",
    "catalogf = pd.DataFrame(catalogf)"
   ]
  },
  {
   "cell_type": "code",
   "execution_count": 30,
   "id": "4fb0bd4c-d424-4631-8d34-c2d91a4295e8",
   "metadata": {
    "tags": []
   },
   "outputs": [
    {
     "data": {
      "text/html": [
       "<div>\n",
       "<style scoped>\n",
       "    .dataframe tbody tr th:only-of-type {\n",
       "        vertical-align: middle;\n",
       "    }\n",
       "\n",
       "    .dataframe tbody tr th {\n",
       "        vertical-align: top;\n",
       "    }\n",
       "\n",
       "    .dataframe thead th {\n",
       "        text-align: right;\n",
       "    }\n",
       "</style>\n",
       "<table border=\"1\" class=\"dataframe\">\n",
       "  <thead>\n",
       "    <tr style=\"text-align: right;\">\n",
       "      <th></th>\n",
       "      <th>name</th>\n",
       "      <th>image_date</th>\n",
       "      <th>x</th>\n",
       "      <th>y</th>\n",
       "      <th>destfile</th>\n",
       "      <th>image</th>\n",
       "    </tr>\n",
       "  </thead>\n",
       "  <tbody>\n",
       "    <tr>\n",
       "      <th>0</th>\n",
       "      <td>ET0007182</td>\n",
       "      <td>2017-08-15</td>\n",
       "      <td>39.5115</td>\n",
       "      <td>14.4825</td>\n",
       "      <td>2017/tile430022_2017-06_2017-11_buf184_cog.tif</td>\n",
       "      <td>ET0007182_2017-08.tif</td>\n",
       "    </tr>\n",
       "    <tr>\n",
       "      <th>1</th>\n",
       "      <td>NE3372442</td>\n",
       "      <td>2021-08-15</td>\n",
       "      <td>9.1515</td>\n",
       "      <td>14.4025</td>\n",
       "      <td>2021/tile417654_2021-08_buf184_cog.tif</td>\n",
       "      <td>NE3372442_2021-08.tif</td>\n",
       "    </tr>\n",
       "    <tr>\n",
       "      <th>2</th>\n",
       "      <td>SN0105655</td>\n",
       "      <td>2020-02-15</td>\n",
       "      <td>-16.3435</td>\n",
       "      <td>15.6325</td>\n",
       "      <td>2020/tile360764_2019-12_2020-05_buf184_cog.tif</td>\n",
       "      <td>SN0105655_2020-02.tif</td>\n",
       "    </tr>\n",
       "    <tr>\n",
       "      <th>3</th>\n",
       "      <td>SD4068077</td>\n",
       "      <td>2022-03-15</td>\n",
       "      <td>33.3765</td>\n",
       "      <td>14.3925</td>\n",
       "      <td>2022/tile427259_2022-03_buf184_cog.tif</td>\n",
       "      <td>SD4068077_2022-03.tif</td>\n",
       "    </tr>\n",
       "    <tr>\n",
       "      <th>4</th>\n",
       "      <td>ML2303293</td>\n",
       "      <td>2021-04-15</td>\n",
       "      <td>-2.3085</td>\n",
       "      <td>16.7775</td>\n",
       "      <td>2021/tile343505_2021-04_buf184_cog.tif</td>\n",
       "      <td>ML2303293_2021-04.tif</td>\n",
       "    </tr>\n",
       "  </tbody>\n",
       "</table>\n",
       "</div>"
      ],
      "text/plain": [
       "        name  image_date        x        y  \\\n",
       "0  ET0007182  2017-08-15  39.5115  14.4825   \n",
       "1  NE3372442  2021-08-15   9.1515  14.4025   \n",
       "2  SN0105655  2020-02-15 -16.3435  15.6325   \n",
       "3  SD4068077  2022-03-15  33.3765  14.3925   \n",
       "4  ML2303293  2021-04-15  -2.3085  16.7775   \n",
       "\n",
       "                                         destfile                  image  \n",
       "0  2017/tile430022_2017-06_2017-11_buf184_cog.tif  ET0007182_2017-08.tif  \n",
       "1          2021/tile417654_2021-08_buf184_cog.tif  NE3372442_2021-08.tif  \n",
       "2  2020/tile360764_2019-12_2020-05_buf184_cog.tif  SN0105655_2020-02.tif  \n",
       "3          2022/tile427259_2022-03_buf184_cog.tif  SD4068077_2022-03.tif  \n",
       "4          2021/tile343505_2021-04_buf184_cog.tif  ML2303293_2021-04.tif  "
      ]
     },
     "execution_count": 30,
     "metadata": {},
     "output_type": "execute_result"
    }
   ],
   "source": [
    "catalogf.head()"
   ]
  },
  {
   "cell_type": "code",
   "execution_count": 32,
   "id": "f793c68d-f7af-4519-9ef3-cdbae6f63f57",
   "metadata": {
    "tags": []
   },
   "outputs": [
    {
     "data": {
      "text/html": [
       "<div>\n",
       "<style scoped>\n",
       "    .dataframe tbody tr th:only-of-type {\n",
       "        vertical-align: middle;\n",
       "    }\n",
       "\n",
       "    .dataframe tbody tr th {\n",
       "        vertical-align: top;\n",
       "    }\n",
       "\n",
       "    .dataframe thead th {\n",
       "        text-align: right;\n",
       "    }\n",
       "</style>\n",
       "<table border=\"1\" class=\"dataframe\">\n",
       "  <thead>\n",
       "    <tr style=\"text-align: right;\">\n",
       "      <th></th>\n",
       "      <th>name</th>\n",
       "      <th>image_date</th>\n",
       "      <th>image</th>\n",
       "    </tr>\n",
       "  </thead>\n",
       "  <tbody>\n",
       "    <tr>\n",
       "      <th>0</th>\n",
       "      <td>ET0007182</td>\n",
       "      <td>2017-08-15</td>\n",
       "      <td>ET0007182_2017-08.tif</td>\n",
       "    </tr>\n",
       "    <tr>\n",
       "      <th>1</th>\n",
       "      <td>NE3372442</td>\n",
       "      <td>2021-08-15</td>\n",
       "      <td>NE3372442_2021-08.tif</td>\n",
       "    </tr>\n",
       "    <tr>\n",
       "      <th>2</th>\n",
       "      <td>SN0105655</td>\n",
       "      <td>2020-02-15</td>\n",
       "      <td>SN0105655_2020-02.tif</td>\n",
       "    </tr>\n",
       "    <tr>\n",
       "      <th>3</th>\n",
       "      <td>SD4068077</td>\n",
       "      <td>2022-03-15</td>\n",
       "      <td>SD4068077_2022-03.tif</td>\n",
       "    </tr>\n",
       "    <tr>\n",
       "      <th>4</th>\n",
       "      <td>ML2303293</td>\n",
       "      <td>2021-04-15</td>\n",
       "      <td>ML2303293_2021-04.tif</td>\n",
       "    </tr>\n",
       "  </tbody>\n",
       "</table>\n",
       "</div>"
      ],
      "text/plain": [
       "        name  image_date                  image\n",
       "0  ET0007182  2017-08-15  ET0007182_2017-08.tif\n",
       "1  NE3372442  2021-08-15  NE3372442_2021-08.tif\n",
       "2  SN0105655  2020-02-15  SN0105655_2020-02.tif\n",
       "3  SD4068077  2022-03-15  SD4068077_2022-03.tif\n",
       "4  ML2303293  2021-04-15  ML2303293_2021-04.tif"
      ]
     },
     "execution_count": 32,
     "metadata": {},
     "output_type": "execute_result"
    }
   ],
   "source": [
    "catalogf.reset_index(drop=True, inplace=True)\n",
    "catalogf.drop(columns=[\"destfile\", \"x\", \"y\"], inplace=True)\n",
    "catalogf.head()"
   ]
  },
  {
   "cell_type": "code",
   "execution_count": 41,
   "id": "c313f3a7-4746-45df-be6d-80ee98fd6113",
   "metadata": {
    "tags": []
   },
   "outputs": [
    {
     "data": {
      "text/html": [
       "<div>\n",
       "<style scoped>\n",
       "    .dataframe tbody tr th:only-of-type {\n",
       "        vertical-align: middle;\n",
       "    }\n",
       "\n",
       "    .dataframe tbody tr th {\n",
       "        vertical-align: top;\n",
       "    }\n",
       "\n",
       "    .dataframe thead th {\n",
       "        text-align: right;\n",
       "    }\n",
       "</style>\n",
       "<table border=\"1\" class=\"dataframe\">\n",
       "  <thead>\n",
       "    <tr style=\"text-align: right;\">\n",
       "      <th></th>\n",
       "      <th>name</th>\n",
       "      <th>assignment_id</th>\n",
       "      <th>Type</th>\n",
       "      <th>Labeller</th>\n",
       "      <th>label_time</th>\n",
       "      <th>completion_time</th>\n",
       "      <th>farea</th>\n",
       "      <th>nflds</th>\n",
       "      <th>status</th>\n",
       "      <th>Score</th>\n",
       "      <th>...</th>\n",
       "      <th>Qscore</th>\n",
       "      <th>QN</th>\n",
       "      <th>Rscore</th>\n",
       "      <th>x</th>\n",
       "      <th>y</th>\n",
       "      <th>tile</th>\n",
       "      <th>Class</th>\n",
       "      <th>image_date</th>\n",
       "      <th>destfile</th>\n",
       "      <th>image</th>\n",
       "    </tr>\n",
       "  </thead>\n",
       "  <tbody>\n",
       "    <tr>\n",
       "      <th>0</th>\n",
       "      <td>ET0007182</td>\n",
       "      <td>50.0</td>\n",
       "      <td>F</td>\n",
       "      <td>22</td>\n",
       "      <td>1.416667</td>\n",
       "      <td>2023-11-13T19:09:18Z</td>\n",
       "      <td>NaN</td>\n",
       "      <td>NaN</td>\n",
       "      <td>Untrusted</td>\n",
       "      <td>NaN</td>\n",
       "      <td>...</td>\n",
       "      <td>0.621788</td>\n",
       "      <td>0.361483</td>\n",
       "      <td>0.706386</td>\n",
       "      <td>39.5115</td>\n",
       "      <td>14.4825</td>\n",
       "      <td>430022</td>\n",
       "      <td>2</td>\n",
       "      <td>2017-08-15</td>\n",
       "      <td>2017/tile430022_2017-06_2017-11_buf184_cog.tif</td>\n",
       "      <td>ET0007182_2017-08.tif</td>\n",
       "    </tr>\n",
       "    <tr>\n",
       "      <th>1</th>\n",
       "      <td>NE3372442</td>\n",
       "      <td>51.0</td>\n",
       "      <td>F</td>\n",
       "      <td>22</td>\n",
       "      <td>0.900000</td>\n",
       "      <td>2023-11-13T19:10:12Z</td>\n",
       "      <td>NaN</td>\n",
       "      <td>NaN</td>\n",
       "      <td>Untrusted</td>\n",
       "      <td>NaN</td>\n",
       "      <td>...</td>\n",
       "      <td>0.621788</td>\n",
       "      <td>0.361483</td>\n",
       "      <td>0.706386</td>\n",
       "      <td>9.1515</td>\n",
       "      <td>14.4025</td>\n",
       "      <td>417654</td>\n",
       "      <td>2</td>\n",
       "      <td>2021-08-15</td>\n",
       "      <td>2021/tile417654_2021-08_buf184_cog.tif</td>\n",
       "      <td>NE3372442_2021-08.tif</td>\n",
       "    </tr>\n",
       "    <tr>\n",
       "      <th>2</th>\n",
       "      <td>SN0105655</td>\n",
       "      <td>48.0</td>\n",
       "      <td>F</td>\n",
       "      <td>13</td>\n",
       "      <td>10.566667</td>\n",
       "      <td>2023-11-13T19:12:41Z</td>\n",
       "      <td>3.216725</td>\n",
       "      <td>8.0</td>\n",
       "      <td>Untrusted</td>\n",
       "      <td>NaN</td>\n",
       "      <td>...</td>\n",
       "      <td>0.623301</td>\n",
       "      <td>0.348254</td>\n",
       "      <td>0.728205</td>\n",
       "      <td>-16.3435</td>\n",
       "      <td>15.6325</td>\n",
       "      <td>360764</td>\n",
       "      <td>2</td>\n",
       "      <td>2020-02-15</td>\n",
       "      <td>2020/tile360764_2019-12_2020-05_buf184_cog.tif</td>\n",
       "      <td>SN0105655_2020-02.tif</td>\n",
       "    </tr>\n",
       "    <tr>\n",
       "      <th>3</th>\n",
       "      <td>SD4068077</td>\n",
       "      <td>52.0</td>\n",
       "      <td>F</td>\n",
       "      <td>22</td>\n",
       "      <td>2.616667</td>\n",
       "      <td>2023-11-13T19:12:49Z</td>\n",
       "      <td>6.902422</td>\n",
       "      <td>7.0</td>\n",
       "      <td>Untrusted</td>\n",
       "      <td>NaN</td>\n",
       "      <td>...</td>\n",
       "      <td>0.621788</td>\n",
       "      <td>0.361483</td>\n",
       "      <td>0.706386</td>\n",
       "      <td>33.3765</td>\n",
       "      <td>14.3925</td>\n",
       "      <td>427259</td>\n",
       "      <td>2</td>\n",
       "      <td>2022-03-15</td>\n",
       "      <td>2022/tile427259_2022-03_buf184_cog.tif</td>\n",
       "      <td>SD4068077_2022-03.tif</td>\n",
       "    </tr>\n",
       "    <tr>\n",
       "      <th>4</th>\n",
       "      <td>ML2303293</td>\n",
       "      <td>16.0</td>\n",
       "      <td>F</td>\n",
       "      <td>22</td>\n",
       "      <td>126.450000</td>\n",
       "      <td>2023-11-09T17:06:38Z</td>\n",
       "      <td>NaN</td>\n",
       "      <td>NaN</td>\n",
       "      <td>Untrusted</td>\n",
       "      <td>NaN</td>\n",
       "      <td>...</td>\n",
       "      <td>0.621788</td>\n",
       "      <td>0.361483</td>\n",
       "      <td>0.706386</td>\n",
       "      <td>-2.3085</td>\n",
       "      <td>16.7775</td>\n",
       "      <td>343505</td>\n",
       "      <td>2</td>\n",
       "      <td>2021-04-15</td>\n",
       "      <td>2021/tile343505_2021-04_buf184_cog.tif</td>\n",
       "      <td>ML2303293_2021-04.tif</td>\n",
       "    </tr>\n",
       "  </tbody>\n",
       "</table>\n",
       "<p>5 rows × 28 columns</p>\n",
       "</div>"
      ],
      "text/plain": [
       "        name  assignment_id Type  Labeller  label_time       completion_time  \\\n",
       "0  ET0007182           50.0    F        22    1.416667  2023-11-13T19:09:18Z   \n",
       "1  NE3372442           51.0    F        22    0.900000  2023-11-13T19:10:12Z   \n",
       "2  SN0105655           48.0    F        13   10.566667  2023-11-13T19:12:41Z   \n",
       "3  SD4068077           52.0    F        22    2.616667  2023-11-13T19:12:49Z   \n",
       "4  ML2303293           16.0    F        22  126.450000  2023-11-09T17:06:38Z   \n",
       "\n",
       "      farea  nflds     status  Score  ...    Qscore        QN    Rscore  \\\n",
       "0       NaN    NaN  Untrusted    NaN  ...  0.621788  0.361483  0.706386   \n",
       "1       NaN    NaN  Untrusted    NaN  ...  0.621788  0.361483  0.706386   \n",
       "2  3.216725    8.0  Untrusted    NaN  ...  0.623301  0.348254  0.728205   \n",
       "3  6.902422    7.0  Untrusted    NaN  ...  0.621788  0.361483  0.706386   \n",
       "4       NaN    NaN  Untrusted    NaN  ...  0.621788  0.361483  0.706386   \n",
       "\n",
       "         x        y    tile  Class  image_date  \\\n",
       "0  39.5115  14.4825  430022      2  2017-08-15   \n",
       "1   9.1515  14.4025  417654      2  2021-08-15   \n",
       "2 -16.3435  15.6325  360764      2  2020-02-15   \n",
       "3  33.3765  14.3925  427259      2  2022-03-15   \n",
       "4  -2.3085  16.7775  343505      2  2021-04-15   \n",
       "\n",
       "                                         destfile                  image  \n",
       "0  2017/tile430022_2017-06_2017-11_buf184_cog.tif  ET0007182_2017-08.tif  \n",
       "1          2021/tile417654_2021-08_buf184_cog.tif  NE3372442_2021-08.tif  \n",
       "2  2020/tile360764_2019-12_2020-05_buf184_cog.tif  SN0105655_2020-02.tif  \n",
       "3          2022/tile427259_2022-03_buf184_cog.tif  SD4068077_2022-03.tif  \n",
       "4          2021/tile343505_2021-04_buf184_cog.tif  ML2303293_2021-04.tif  \n",
       "\n",
       "[5 rows x 28 columns]"
      ]
     },
     "execution_count": 41,
     "metadata": {},
     "output_type": "execute_result"
    }
   ],
   "source": [
    "catalog_out = pd.merge(catalog, catalogf, how=\"left\")\n",
    "catalog_out.to_csv(\n",
    "    Path(proj_dir) / \"data/interim/label_catalog_int.csv\", index=False\n",
    ")\n",
    "catalog_out.head()"
   ]
  }
 ],
 "metadata": {
  "kernelspec": {
   "display_name": "Python 3 (ipykernel)",
   "language": "python",
   "name": "python3"
  },
  "language_info": {
   "codemirror_mode": {
    "name": "ipython",
    "version": 3
   },
   "file_extension": ".py",
   "mimetype": "text/x-python",
   "name": "python",
   "nbconvert_exporter": "python",
   "pygments_lexer": "ipython3",
   "version": "3.11.4"
  }
 },
 "nbformat": 4,
 "nbformat_minor": 5
}
