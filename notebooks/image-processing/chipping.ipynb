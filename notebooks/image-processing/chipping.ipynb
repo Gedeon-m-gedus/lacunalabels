{
 "cells": [
  {
   "cell_type": "markdown",
   "id": "dec9eb82-b3a4-4b73-a0e1-e8533b1a4065",
   "metadata": {},
   "source": [
    "# Processing images and labels into chips"
   ]
  },
  {
   "cell_type": "markdown",
   "id": "c76ae0bb-1c23-4658-95f6-1f2447ee0c90",
   "metadata": {},
   "source": [
    "Planet imagery was originally processed into larger tiles of 2368 x 2358 pixels at a resolution of 0.000025$^\\circ$. Labelling was undertaken on only a subset of each tile, corresponding to a 0.005$^\\circ$ target (~550 m). For release, the imagery was cropped to the target box and resampled to make chips of 224x224 pixels, and labels were rasterized to the same dimensions. "
   ]
  },
  {
   "cell_type": "code",
   "execution_count": 1,
   "id": "6834d941-df2d-4713-a3fb-106c2bbd233b",
   "metadata": {},
   "outputs": [],
   "source": [
    "import os\n",
    "from pathlib import Path\n",
    "import rioxarray as rxr\n",
    "from rasterio.enums import Resampling\n",
    "import geopandas as gpd\n",
    "from shapely.geometry import Polygon, box\n",
    "import pandas as pd\n",
    "import numpy as np\n",
    "from datetime import datetime as dt"
   ]
  },
  {
   "cell_type": "markdown",
   "id": "b0956acc-9915-4f1b-ab9a-f9be8a17963d",
   "metadata": {},
   "source": [
    "## Setup"
   ]
  },
  {
   "cell_type": "code",
   "execution_count": 2,
   "id": "002d853f-954c-4a15-9749-2705708772ed",
   "metadata": {
    "tags": []
   },
   "outputs": [],
   "source": [
    "root_dir = os.environ[\"HOME\"]\n",
    "proj_dir = Path(root_dir) / \"projects/lacunalabels\"\n",
    "data_dir = Path(root_dir) / \"data\"\n",
    "chip_dir = Path(data_dir) / \"lacuna/images\"\n",
    "label_dir = Path(data_dir) / \"lacuna/labels\"\n",
    "image_dir = Path(os.path.dirname(root_dir)) / \"data/imagery/planet/tiles\"\n",
    "log_path = Path(root_dir) / \"logs/image-chipping.log\"\n",
    "\n",
    "for d in [chip_dir, label_dir]:\n",
    "    if not os.path.isdir(d):\n",
    "        os.makedirs(d)"
   ]
  },
  {
   "cell_type": "markdown",
   "id": "2e1ca6c9-30b0-406b-ae95-64da5850897c",
   "metadata": {
    "tags": []
   },
   "source": [
    "### Functions"
   ]
  },
  {
   "cell_type": "code",
   "execution_count": 3,
   "id": "049afc6c-fa2d-42ca-adca-c69aacf02332",
   "metadata": {
    "tags": []
   },
   "outputs": [],
   "source": [
    "def target_poly(x, y, w=0.0025, crs=\"epsg:4326\"):\n",
    "    poly = box(x-w, y-w, x+w, y+w)\n",
    "    poly_gdf = gpd.GeoDataFrame({\"geometry\": [poly]}, crs=crs)\n",
    "    return poly_gdf\n",
    "\n",
    "def chipper(image, x, y, rows, cols, dst_path, log, decimals=4, overwrite=True, \n",
    "            resample_method=None): \n",
    "    \n",
    "    if not resample_method:\n",
    "        resample_method=Resampling.cubic \n",
    "        \n",
    "    if not overwrite and os.path.exists(dst_path):\n",
    "        msg = f\"{os.path.basename(dst_path)} exists, skipping\"\n",
    "        print(msg, file=log, flush=True)\n",
    "    \n",
    "    else: \n",
    "                \n",
    "        bnds = target_poly(x, y)\n",
    "        chip = (\n",
    "            image.rio.clip(bnds.geometry)\n",
    "            .rio.reproject(image.rio.crs, shape=(rows, cols), \n",
    "                           resampling=resample_method)\n",
    "        )\n",
    "\n",
    "        # checks\n",
    "        chip_bnds = chip.rio.bounds()\n",
    "        try:\n",
    "            assert np.isclose(np.array(chip_bnds), np.array(bnds.bounds)[0]).all()\n",
    "        except AssertionError as err:\n",
    "            msg = f\"{dt.now()}: {os.path.basename(dst_path)} has incorrect bounds\"\n",
    "            print(msg, file=log, flush=True)\n",
    "            raise err\n",
    "        try:    \n",
    "            assert chip.shape[1:3] == (rows, cols)\n",
    "        except AssertionError as err:\n",
    "            msg = f\"{dt.now()}: {os.path.basename(dst_path)} incorrect output shape\"\n",
    "            print(msg, file=log, flush=True)\n",
    "            raise err\n",
    "    \n",
    "        chip.rio.to_raster(dst_path)   \n",
    "        msg = f\"{dt.now()}: created {os.path.basename(dst_path)}\"\n",
    "        print(msg, file=log, flush=True)\n",
    "    \n",
    "    return msg\n"
   ]
  },
  {
   "cell_type": "markdown",
   "id": "292a9afd-c5c8-4b3b-a30d-5fb5e7c7682a",
   "metadata": {
    "tags": []
   },
   "source": [
    "### Catalogs"
   ]
  },
  {
   "cell_type": "code",
   "execution_count": 9,
   "id": "d1d6f830-f021-40ea-9e44-ff7a722ef91f",
   "metadata": {
    "tags": []
   },
   "outputs": [],
   "source": [
    "catalog = pd.read_csv(Path(proj_dir) /\\\n",
    "                      \"data/interim/assignments_full_wtiles.csv\")\n",
    "chip_catalog = (\n",
    "    catalog[[\"name\", \"image_date\", \"x\", \"y\", \"destfile\"]]\n",
    "    .drop_duplicates()\n",
    "    .reset_index(drop=True)\n",
    ")"
   ]
  },
  {
   "cell_type": "markdown",
   "id": "70bc440d-ca9a-478f-8f9a-b601d30babb4",
   "metadata": {},
   "source": [
    "## Image chipping\n",
    "\n",
    "Processing image chips into 224x224. "
   ]
  },
  {
   "cell_type": "code",
   "execution_count": 88,
   "id": "64cf24c2-6a52-47a6-9d81-c144e9f11230",
   "metadata": {
    "tags": []
   },
   "outputs": [],
   "source": [
    "# qs = catalog.query(\"Type=='Q'\").sample(n=50,random_state=1).name"
   ]
  },
  {
   "cell_type": "code",
   "execution_count": 10,
   "id": "e16916a7-4b9a-4d01-93c3-a2222f20db02",
   "metadata": {
    "tags": []
   },
   "outputs": [],
   "source": [
    "log = open(log_path, \"a+\")\n",
    "print(f\"\\nStarting at {dt.now()}\\n\", file=log, flush=True)\n",
    "\n",
    "chip_list = []\n",
    "# for i, row in chip_catalog.query(\"name in @qs\").iterrows():\n",
    "for i, row in chip_catalog.iterrows():\n",
    "    \n",
    "    chip_name = f\"{row['name']}-{row['image_date']}.tif\"\n",
    "    chip_path = str(Path(chip_dir) / chip_name)\n",
    "    \n",
    "    row[\"chip\"] = chip_name\n",
    "    chip_list.append(row)\n",
    "    result = chipper(\n",
    "        rxr.open_rasterio(Path(image_dir) / row.destfile), \n",
    "        row.x, row.y, 224, 224, chip_path, log, 4, False\n",
    "    )\n",
    "print(f\"\\nFinished at {dt.now()}\", file=log, flush=True)\n",
    "log.close()"
   ]
  },
  {
   "cell_type": "markdown",
   "id": "954876e1-d006-49d8-9b23-1c07e1956e85",
   "metadata": {},
   "source": [
    "Combine results back to catalog with chip name"
   ]
  },
  {
   "cell_type": "code",
   "execution_count": 43,
   "id": "3e20253d-8f8b-42e4-bd8d-df9c73e31011",
   "metadata": {
    "tags": []
   },
   "outputs": [
    {
     "data": {
      "text/html": [
       "<div>\n",
       "<style scoped>\n",
       "    .dataframe tbody tr th:only-of-type {\n",
       "        vertical-align: middle;\n",
       "    }\n",
       "\n",
       "    .dataframe tbody tr th {\n",
       "        vertical-align: top;\n",
       "    }\n",
       "\n",
       "    .dataframe thead th {\n",
       "        text-align: right;\n",
       "    }\n",
       "</style>\n",
       "<table border=\"1\" class=\"dataframe\">\n",
       "  <thead>\n",
       "    <tr style=\"text-align: right;\">\n",
       "      <th></th>\n",
       "      <th>name</th>\n",
       "      <th>image_date</th>\n",
       "      <th>chip</th>\n",
       "    </tr>\n",
       "  </thead>\n",
       "  <tbody>\n",
       "    <tr>\n",
       "      <th>0</th>\n",
       "      <td>ET0007182</td>\n",
       "      <td>2017-08-15</td>\n",
       "      <td>ET0007182-2017-08-15.tif</td>\n",
       "    </tr>\n",
       "    <tr>\n",
       "      <th>1</th>\n",
       "      <td>NE3372442</td>\n",
       "      <td>2021-08-15</td>\n",
       "      <td>NE3372442-2021-08-15.tif</td>\n",
       "    </tr>\n",
       "    <tr>\n",
       "      <th>2</th>\n",
       "      <td>SN0105655</td>\n",
       "      <td>2020-02-15</td>\n",
       "      <td>SN0105655-2020-02-15.tif</td>\n",
       "    </tr>\n",
       "  </tbody>\n",
       "</table>\n",
       "</div>"
      ],
      "text/plain": [
       "        name  image_date                      chip\n",
       "0  ET0007182  2017-08-15  ET0007182-2017-08-15.tif\n",
       "1  NE3372442  2021-08-15  NE3372442-2021-08-15.tif\n",
       "2  SN0105655  2020-02-15  SN0105655-2020-02-15.tif"
      ]
     },
     "execution_count": 43,
     "metadata": {},
     "output_type": "execute_result"
    }
   ],
   "source": [
    "chip_catalogf = pd.concat([pd.DataFrame([l.to_list()], columns=l.index) \n",
    "                           for l in chip_list])\n",
    "chip_catalogf.reset_index(drop=True, inplace=True)\n",
    "chip_catalogf.drop(columns=[\"destfile\", \"x\", \"y\"], inplace=True)\n",
    "chip_catalogf.loc[0:2]"
   ]
  },
  {
   "cell_type": "code",
   "execution_count": 48,
   "id": "6a623f16-57da-4ce8-8490-bd32c132f475",
   "metadata": {
    "tags": []
   },
   "outputs": [],
   "source": [
    "catalog2 = pd.merge(catalog, chip_catalogf, how=\"left\")\n",
    "catalog2.to_csv(\n",
    "    Path(proj_dir) / \"data/interim/label_catalog_int.csv\", index=False\n",
    ")"
   ]
  }
 ],
 "metadata": {
  "kernelspec": {
   "display_name": "Python 3 (ipykernel)",
   "language": "python",
   "name": "python3"
  },
  "language_info": {
   "codemirror_mode": {
    "name": "ipython",
    "version": 3
   },
   "file_extension": ".py",
   "mimetype": "text/x-python",
   "name": "python",
   "nbconvert_exporter": "python",
   "pygments_lexer": "ipython3",
   "version": "3.11.4"
  }
 },
 "nbformat": 4,
 "nbformat_minor": 5
}
